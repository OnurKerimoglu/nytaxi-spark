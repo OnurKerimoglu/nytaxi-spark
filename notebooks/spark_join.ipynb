{
 "cells": [
  {
   "cell_type": "code",
   "execution_count": 1,
   "id": "10769530-d6bf-490e-ace3-6ea8765c304b",
   "metadata": {},
   "outputs": [],
   "source": [
    "import os\n",
    "import pandas as pd\n",
    "import pyspark\n",
    "from pyspark.sql import functions as F\n",
    "from pyspark.sql import SparkSession\n",
    "from pyspark.sql import types"
   ]
  },
  {
   "cell_type": "code",
   "execution_count": 2,
   "id": "b4d1d4ed-3f18-4dcb-ac16-1479ba1ada09",
   "metadata": {},
   "outputs": [
    {
     "name": "stdout",
     "output_type": "stream",
     "text": [
      "datapath: /home/onur/repos/nytaxi-spark/data\n"
     ]
    }
   ],
   "source": [
    "rootpath = os.path.dirname(os.path.abspath(\"\"))\n",
    "datapath = os.path.join(rootpath, 'data')\n",
    "print(f\"datapath: {datapath}\")"
   ]
  },
  {
   "cell_type": "code",
   "execution_count": 3,
   "id": "396c466f-590a-49e9-91cd-8f50450dfbae",
   "metadata": {},
   "outputs": [
    {
     "name": "stderr",
     "output_type": "stream",
     "text": [
      "Setting default log level to \"WARN\".\n",
      "To adjust logging level use sc.setLogLevel(newLevel). For SparkR, use setLogLevel(newLevel).\n",
      "25/03/13 14:22:40 WARN NativeCodeLoader: Unable to load native-hadoop library for your platform... using builtin-java classes where applicable\n"
     ]
    }
   ],
   "source": [
    "spark = SparkSession.builder \\\n",
    "    .master('local[2]') \\\n",
    "    .appName('taxi_join') \\\n",
    "    .getOrCreate()"
   ]
  },
  {
   "cell_type": "markdown",
   "id": "dd6ecaa5-5b01-481a-b2c5-0aefbd13e2ca",
   "metadata": {},
   "source": [
    "### Read and Combine Green&Yellow Data"
   ]
  },
  {
   "cell_type": "code",
   "execution_count": 4,
   "id": "aacaf125-4799-45f7-8b1f-ee63549af03a",
   "metadata": {},
   "outputs": [
    {
     "name": "stderr",
     "output_type": "stream",
     "text": [
      "                                                                                \r"
     ]
    }
   ],
   "source": [
    "df_green = spark.read.parquet(os.path.join(datapath, 'report', 'revenue_hourly_green'))"
   ]
  },
  {
   "cell_type": "code",
   "execution_count": 13,
   "id": "66a1dc1f-1e24-4e4f-96f2-d24000359969",
   "metadata": {},
   "outputs": [],
   "source": [
    "df_green = df_green\\\n",
    ".withColumnRenamed('amount', 'green_amount')\\\n",
    ".withColumnRenamed('number_records', 'green_number_records')"
   ]
  },
  {
   "cell_type": "code",
   "execution_count": 5,
   "id": "c5a9c7f9-61a1-4b3c-beea-13cfe494d191",
   "metadata": {},
   "outputs": [
    {
     "name": "stderr",
     "output_type": "stream",
     "text": [
      "                                                                                \r"
     ]
    },
    {
     "data": {
      "text/plain": [
       "744767"
      ]
     },
     "execution_count": 5,
     "metadata": {},
     "output_type": "execute_result"
    }
   ],
   "source": [
    "df_green.count()"
   ]
  },
  {
   "cell_type": "code",
   "execution_count": 14,
   "id": "7b1dd2b6-b6da-4231-8592-d7a9c92e8fee",
   "metadata": {},
   "outputs": [
    {
     "data": {
      "text/plain": [
       "['hour', 'rzone', 'green_amount', 'green_number_records']"
      ]
     },
     "execution_count": 14,
     "metadata": {},
     "output_type": "execute_result"
    }
   ],
   "source": [
    "df_green.columns"
   ]
  },
  {
   "cell_type": "code",
   "execution_count": 7,
   "id": "4abe5ca7-bc06-43e8-b998-c3820c8ac112",
   "metadata": {},
   "outputs": [],
   "source": [
    "df_yellow = spark.read.parquet(os.path.join(datapath, 'report', 'revenue_hourly_yellow'))"
   ]
  },
  {
   "cell_type": "code",
   "execution_count": 15,
   "id": "b74143a0-19f9-4d79-9c73-d3eb96933692",
   "metadata": {},
   "outputs": [],
   "source": [
    "df_yellow = df_yellow\\\n",
    ".withColumnRenamed('amount', 'yellow_amount')\\\n",
    ".withColumnRenamed('number_records', 'yellow_number_records')"
   ]
  },
  {
   "cell_type": "code",
   "execution_count": 8,
   "id": "80fc3f58-9017-4c43-86d3-4ac918a26b79",
   "metadata": {},
   "outputs": [
    {
     "data": {
      "text/plain": [
       "1520799"
      ]
     },
     "execution_count": 8,
     "metadata": {},
     "output_type": "execute_result"
    }
   ],
   "source": [
    "df_yellow.count()"
   ]
  },
  {
   "cell_type": "code",
   "execution_count": 16,
   "id": "a5cc67a7-8423-405e-9cac-fea25f2dd8fb",
   "metadata": {},
   "outputs": [
    {
     "data": {
      "text/plain": [
       "['hour', 'rzone', 'yellow_amount', 'yellow_number_records']"
      ]
     },
     "execution_count": 16,
     "metadata": {},
     "output_type": "execute_result"
    }
   ],
   "source": [
    "df_yellow.columns"
   ]
  },
  {
   "cell_type": "code",
   "execution_count": 17,
   "id": "fd2072ff-3979-45d7-9d14-7e3301a1315b",
   "metadata": {},
   "outputs": [],
   "source": [
    " df_join = df_green.join(df_yellow, on=['hour', 'rzone'], how='outer')"
   ]
  },
  {
   "cell_type": "code",
   "execution_count": 18,
   "id": "dc4345e8-c3b0-4132-9dee-2208337bb1af",
   "metadata": {},
   "outputs": [
    {
     "name": "stderr",
     "output_type": "stream",
     "text": [
      "[Stage 17:>                                                         (0 + 1) / 1]\r"
     ]
    },
    {
     "name": "stdout",
     "output_type": "stream",
     "text": [
      "+-------------------+-----+------------------+--------------------+------------------+---------------------+\n",
      "|               hour|rzone|      green_amount|green_number_records|     yellow_amount|yellow_number_records|\n",
      "+-------------------+-----+------------------+--------------------+------------------+---------------------+\n",
      "|2020-01-01 00:00:00|    3|              NULL|                NULL|              25.0|                    1|\n",
      "|2020-01-01 00:00:00|    4|              NULL|                NULL|1004.3000000000002|                   57|\n",
      "|2020-01-01 00:00:00|    7| 769.7299999999996|                  45| 455.1700000000001|                   38|\n",
      "|2020-01-01 00:00:00|   12|              NULL|                NULL|             107.0|                    6|\n",
      "|2020-01-01 00:00:00|   13|              NULL|                NULL|1214.8000000000002|                   56|\n",
      "|2020-01-01 00:00:00|   18|               7.8|                   1|               5.8|                    1|\n",
      "|2020-01-01 00:00:00|   29|              61.3|                   1|              NULL|                 NULL|\n",
      "|2020-01-01 00:00:00|   36|295.34000000000003|                  11|            109.17|                    3|\n",
      "|2020-01-01 00:00:00|   37|            175.67|                   6|161.60999999999999|                    7|\n",
      "|2020-01-01 00:00:00|   38| 98.78999999999999|                   2|              NULL|                 NULL|\n",
      "|2020-01-01 00:00:00|   40|168.97999999999996|                   8|             89.97|                    5|\n",
      "|2020-01-01 00:00:00|   41|1363.9599999999987|                  84|1256.5299999999997|                   80|\n",
      "|2020-01-01 00:00:00|   45|              NULL|                NULL| 732.4800000000002|                   42|\n",
      "|2020-01-01 00:00:00|   47|              13.3|                   1|               8.3|                    1|\n",
      "|2020-01-01 00:00:00|   48|              NULL|                NULL|10773.360000000022|                  455|\n",
      "|2020-01-01 00:00:00|   51|              17.8|                   2|              31.0|                    1|\n",
      "|2020-01-01 00:00:00|   60|            160.04|                   6|57.620000000000005|                    2|\n",
      "|2020-01-01 00:00:00|   61| 526.7099999999999|                  17|            146.64|                    3|\n",
      "|2020-01-01 00:00:00|   62|             15.95|                   1|             61.43|                    1|\n",
      "|2020-01-01 00:00:00|   63|              51.9|                   2|              70.8|                    1|\n",
      "+-------------------+-----+------------------+--------------------+------------------+---------------------+\n",
      "only showing top 20 rows\n",
      "\n"
     ]
    },
    {
     "name": "stderr",
     "output_type": "stream",
     "text": [
      "                                                                                \r"
     ]
    }
   ],
   "source": [
    "df_join.show()"
   ]
  },
  {
   "cell_type": "code",
   "execution_count": 19,
   "id": "d58025fa-4317-4254-b9c6-f8a136259682",
   "metadata": {},
   "outputs": [
    {
     "name": "stderr",
     "output_type": "stream",
     "text": [
      "                                                                                \r"
     ]
    }
   ],
   "source": [
    "df_join.write.parquet(os.path.join(datapath, 'report', 'revenue_hourly_joined'))"
   ]
  },
  {
   "cell_type": "markdown",
   "id": "dc260bb8-cf90-41b7-aa0c-b4516ff29d6e",
   "metadata": {},
   "source": [
    "### Joining large and small tables"
   ]
  },
  {
   "cell_type": "code",
   "execution_count": 20,
   "id": "1de517e4-c840-45a8-8b3f-151588046f9c",
   "metadata": {},
   "outputs": [],
   "source": [
    "df_join = spark.read.parquet(os.path.join(datapath, 'report', 'revenue_hourly_joined'))"
   ]
  },
  {
   "cell_type": "code",
   "execution_count": 21,
   "id": "ace7e74a-5b0b-488b-9323-c011ce71b2a0",
   "metadata": {},
   "outputs": [
    {
     "name": "stdout",
     "output_type": "stream",
     "text": [
      "+-------------------+-----+------------------+--------------------+------------------+---------------------+\n",
      "|               hour|rzone|      green_amount|green_number_records|     yellow_amount|yellow_number_records|\n",
      "+-------------------+-----+------------------+--------------------+------------------+---------------------+\n",
      "|2020-01-01 00:00:00|   10|              NULL|                NULL|             42.41|                    2|\n",
      "|2020-01-01 00:00:00|   14|              NULL|                NULL|               8.8|                    1|\n",
      "|2020-01-01 00:00:00|   15|              NULL|                NULL|             34.09|                    1|\n",
      "|2020-01-01 00:00:00|   17|195.03000000000003|                   9|220.20999999999998|                    8|\n",
      "|2020-01-01 00:00:00|   22|              15.8|                   1|              NULL|                 NULL|\n",
      "|2020-01-01 00:00:00|   24|              87.6|                   3| 754.9500000000002|                   45|\n",
      "|2020-01-01 00:00:00|   25| 531.0000000000002|                  26|            324.35|                   16|\n",
      "|2020-01-01 00:00:00|   32| 68.94999999999999|                   2|              18.0|                    1|\n",
      "|2020-01-01 00:00:00|   33|317.27000000000004|                  11|            255.56|                    8|\n",
      "|2020-01-01 00:00:00|   34|              NULL|                NULL|              19.3|                    1|\n",
      "|2020-01-01 00:00:00|   35|            129.96|                   5|              NULL|                 NULL|\n",
      "|2020-01-01 00:00:00|   42| 799.7599999999994|                  52| 635.3500000000001|                   46|\n",
      "|2020-01-01 00:00:00|   43|            107.52|                   6| 6539.510000000012|                  390|\n",
      "|2020-01-01 00:00:00|   49|266.76000000000005|                  14|185.64999999999998|                   10|\n",
      "|2020-01-01 00:00:00|   50|              NULL|                NULL| 4177.479999999999|                  183|\n",
      "|2020-01-01 00:00:00|   52| 83.33000000000001|                   4|              49.8|                    2|\n",
      "|2020-01-01 00:00:00|   55|            129.29|                   4|              NULL|                 NULL|\n",
      "|2020-01-01 00:00:00|   56|             99.69|                   3|              18.1|                    2|\n",
      "|2020-01-01 00:00:00|   59|              50.9|                   3|              NULL|                 NULL|\n",
      "|2020-01-01 00:00:00|   65|199.48999999999998|                  10|            409.35|                   19|\n",
      "+-------------------+-----+------------------+--------------------+------------------+---------------------+\n",
      "only showing top 20 rows\n",
      "\n"
     ]
    }
   ],
   "source": [
    "df_join.show()"
   ]
  },
  {
   "cell_type": "code",
   "execution_count": 22,
   "id": "dc02bd7a-98f5-4ceb-8fae-c4407e14af42",
   "metadata": {},
   "outputs": [],
   "source": [
    "df_zones = spark.read.parquet(os.path.join(datapath, 'zones'))"
   ]
  },
  {
   "cell_type": "code",
   "execution_count": 23,
   "id": "b904b7de-fe1e-4fec-814b-338182029c8f",
   "metadata": {},
   "outputs": [
    {
     "name": "stdout",
     "output_type": "stream",
     "text": [
      "+----------+-------------+--------------------+------------+\n",
      "|LocationID|      Borough|                Zone|service_zone|\n",
      "+----------+-------------+--------------------+------------+\n",
      "|         1|          EWR|      Newark Airport|         EWR|\n",
      "|         2|       Queens|         Jamaica Bay|   Boro Zone|\n",
      "|         3|        Bronx|Allerton/Pelham G...|   Boro Zone|\n",
      "|         4|    Manhattan|       Alphabet City| Yellow Zone|\n",
      "|         5|Staten Island|       Arden Heights|   Boro Zone|\n",
      "|         6|Staten Island|Arrochar/Fort Wad...|   Boro Zone|\n",
      "|         7|       Queens|             Astoria|   Boro Zone|\n",
      "|         8|       Queens|        Astoria Park|   Boro Zone|\n",
      "|         9|       Queens|          Auburndale|   Boro Zone|\n",
      "|        10|       Queens|        Baisley Park|   Boro Zone|\n",
      "|        11|     Brooklyn|          Bath Beach|   Boro Zone|\n",
      "|        12|    Manhattan|        Battery Park| Yellow Zone|\n",
      "|        13|    Manhattan|   Battery Park City| Yellow Zone|\n",
      "|        14|     Brooklyn|           Bay Ridge|   Boro Zone|\n",
      "|        15|       Queens|Bay Terrace/Fort ...|   Boro Zone|\n",
      "|        16|       Queens|             Bayside|   Boro Zone|\n",
      "|        17|     Brooklyn|             Bedford|   Boro Zone|\n",
      "|        18|        Bronx|        Bedford Park|   Boro Zone|\n",
      "|        19|       Queens|           Bellerose|   Boro Zone|\n",
      "|        20|        Bronx|             Belmont|   Boro Zone|\n",
      "+----------+-------------+--------------------+------------+\n",
      "only showing top 20 rows\n",
      "\n"
     ]
    }
   ],
   "source": [
    "df_zones.show()"
   ]
  },
  {
   "cell_type": "code",
   "execution_count": 24,
   "id": "265b3d66-3fa5-492d-b3a1-9b7ef6a4d6a4",
   "metadata": {},
   "outputs": [],
   "source": [
    "df_result = df_join.join(df_zones, df_join.rzone == df_zones.LocationID)"
   ]
  },
  {
   "cell_type": "code",
   "execution_count": 29,
   "id": "6cfc2bed-ba33-4774-8851-bf974321d4f6",
   "metadata": {},
   "outputs": [],
   "source": [
    "df_result = df_result.drop('rzone', 'LocationID')"
   ]
  },
  {
   "cell_type": "code",
   "execution_count": 30,
   "id": "5fb5685d-64b2-4d6c-904f-f6584af7faf9",
   "metadata": {},
   "outputs": [
    {
     "name": "stdout",
     "output_type": "stream",
     "text": [
      "+-------------------+------------------+--------------------+------------------+---------------------+---------+--------------------+------------+\n",
      "|               hour|      green_amount|green_number_records|     yellow_amount|yellow_number_records|  Borough|                Zone|service_zone|\n",
      "+-------------------+------------------+--------------------+------------------+---------------------+---------+--------------------+------------+\n",
      "|2020-01-01 00:00:00|              NULL|                NULL|             42.41|                    2|   Queens|        Baisley Park|   Boro Zone|\n",
      "|2020-01-01 00:00:00|              NULL|                NULL|               8.8|                    1| Brooklyn|           Bay Ridge|   Boro Zone|\n",
      "|2020-01-01 00:00:00|              NULL|                NULL|             34.09|                    1|   Queens|Bay Terrace/Fort ...|   Boro Zone|\n",
      "|2020-01-01 00:00:00|195.03000000000003|                   9|220.20999999999998|                    8| Brooklyn|             Bedford|   Boro Zone|\n",
      "|2020-01-01 00:00:00|              15.8|                   1|              NULL|                 NULL| Brooklyn|    Bensonhurst West|   Boro Zone|\n",
      "|2020-01-01 00:00:00|              87.6|                   3| 754.9500000000002|                   45|Manhattan|        Bloomingdale| Yellow Zone|\n",
      "|2020-01-01 00:00:00| 531.0000000000002|                  26|            324.35|                   16| Brooklyn|         Boerum Hill|   Boro Zone|\n",
      "|2020-01-01 00:00:00| 68.94999999999999|                   2|              18.0|                    1|    Bronx|           Bronxdale|   Boro Zone|\n",
      "|2020-01-01 00:00:00|317.27000000000004|                  11|            255.56|                    8| Brooklyn|    Brooklyn Heights|   Boro Zone|\n",
      "|2020-01-01 00:00:00|              NULL|                NULL|              19.3|                    1| Brooklyn|  Brooklyn Navy Yard|   Boro Zone|\n",
      "|2020-01-01 00:00:00|            129.96|                   5|              NULL|                 NULL| Brooklyn|         Brownsville|   Boro Zone|\n",
      "|2020-01-01 00:00:00| 799.7599999999994|                  52| 635.3500000000001|                   46|Manhattan|Central Harlem North|   Boro Zone|\n",
      "|2020-01-01 00:00:00|            107.52|                   6| 6539.510000000012|                  390|Manhattan|        Central Park| Yellow Zone|\n",
      "|2020-01-01 00:00:00|266.76000000000005|                  14|185.64999999999998|                   10| Brooklyn|        Clinton Hill|   Boro Zone|\n",
      "|2020-01-01 00:00:00|              NULL|                NULL| 4177.479999999999|                  183|Manhattan|        Clinton West| Yellow Zone|\n",
      "|2020-01-01 00:00:00| 83.33000000000001|                   4|              49.8|                    2| Brooklyn|         Cobble Hill|   Boro Zone|\n",
      "|2020-01-01 00:00:00|            129.29|                   4|              NULL|                 NULL| Brooklyn|        Coney Island|   Boro Zone|\n",
      "|2020-01-01 00:00:00|             99.69|                   3|              18.1|                    2|   Queens|              Corona|   Boro Zone|\n",
      "|2020-01-01 00:00:00|              50.9|                   3|              NULL|                 NULL|    Bronx|        Crotona Park|   Boro Zone|\n",
      "|2020-01-01 00:00:00|199.48999999999998|                  10|            409.35|                   19| Brooklyn|Downtown Brooklyn...|   Boro Zone|\n",
      "+-------------------+------------------+--------------------+------------------+---------------------+---------+--------------------+------------+\n",
      "only showing top 20 rows\n",
      "\n"
     ]
    }
   ],
   "source": [
    "df_result.show()"
   ]
  },
  {
   "cell_type": "code",
   "execution_count": 33,
   "id": "f9d2a8e0-2f0a-453f-b5f9-fa7fcea0026c",
   "metadata": {},
   "outputs": [
    {
     "name": "stderr",
     "output_type": "stream",
     "text": [
      "                                                                                \r"
     ]
    }
   ],
   "source": [
    "df_result.write.parquet(os.path.join(datapath, 'report', 'revenue_hourly_joined_zones'))"
   ]
  },
  {
   "cell_type": "code",
   "execution_count": 34,
   "id": "5ab42727-9ad8-4beb-a0ff-bf2744573505",
   "metadata": {},
   "outputs": [],
   "source": [
    "spark.sparkContext.stop()"
   ]
  }
 ],
 "metadata": {
  "kernelspec": {
   "display_name": "Python 3 (ipykernel)",
   "language": "python",
   "name": "python3"
  },
  "language_info": {
   "codemirror_mode": {
    "name": "ipython",
    "version": 3
   },
   "file_extension": ".py",
   "mimetype": "text/x-python",
   "name": "python",
   "nbconvert_exporter": "python",
   "pygments_lexer": "ipython3",
   "version": "3.12.7"
  }
 },
 "nbformat": 4,
 "nbformat_minor": 5
}
