{
 "cells": [
  {
   "cell_type": "code",
   "execution_count": 14,
   "id": "d5c42932-c3c6-460b-8b24-8b243a40b9b9",
   "metadata": {},
   "outputs": [],
   "source": [
    "import os\n",
    "import pandas as pd\n",
    "import pyspark\n",
    "from pyspark.sql import SparkSession\n",
    "from pyspark.sql import types"
   ]
  },
  {
   "cell_type": "code",
   "execution_count": 15,
   "id": "0ad87394-036d-4c25-a9f2-4cd23054ac5f",
   "metadata": {},
   "outputs": [
    {
     "name": "stdout",
     "output_type": "stream",
     "text": [
      "datapath: /home/onur/repos/nytaxi-spark/data\n"
     ]
    }
   ],
   "source": [
    "rootpath = os.path.dirname(os.path.abspath(\"\"))\n",
    "datapath = os.path.join(rootpath, 'data')\n",
    "print(f\"datapath: {datapath}\")"
   ]
  },
  {
   "cell_type": "code",
   "execution_count": null,
   "id": "9d42929f-ac26-4479-8e4e-ff4e93d59df1",
   "metadata": {},
   "outputs": [],
   "source": [
    "# Url from the stand-alone spark page on 8080:"
   ]
  },
  {
   "cell_type": "code",
   "execution_count": 11,
   "id": "74de8329-42c4-4927-9330-de328365f2de",
   "metadata": {},
   "outputs": [],
   "source": [
    "spark = SparkSession.builder \\\n",
    "    .master(\"spark://de-zoomcamp.europe-west1-b.c.fresh-gravity-452908-t8.internal:7077\") \\\n",
    "    .appName('test') \\\n",
    "    .getOrCreate()"
   ]
  },
  {
   "cell_type": "code",
   "execution_count": 16,
   "id": "721b10db-85d8-4723-8b92-2a07d4e5155f",
   "metadata": {},
   "outputs": [
    {
     "name": "stderr",
     "output_type": "stream",
     "text": [
      "                                                                                \r"
     ]
    }
   ],
   "source": [
    "df_green = spark.read.parquet(os.path.join(datapath, 'pq', 'green', '*', '*'))"
   ]
  },
  {
   "cell_type": "code",
   "execution_count": 17,
   "id": "c31f4c97-13c0-4461-89d0-b5c0d19ef075",
   "metadata": {},
   "outputs": [
    {
     "name": "stderr",
     "output_type": "stream",
     "text": [
      "                                                                                \r"
     ]
    },
    {
     "name": "stdout",
     "output_type": "stream",
     "text": [
      "+--------+--------------------+---------------------+------------------+----------+------------+------------+---------------+-------------+-----------+-----+-------+----------+------------+---------+---------------------+------------+------------+---------+--------------------+\n",
      "|VendorID|lpep_pickup_datetime|lpep_dropoff_datetime|store_and_fwd_flag|RatecodeID|PULocationID|DOLocationID|passenger_count|trip_distance|fare_amount|extra|mta_tax|tip_amount|tolls_amount|ehail_fee|improvement_surcharge|total_amount|payment_type|trip_type|congestion_surcharge|\n",
      "+--------+--------------------+---------------------+------------------+----------+------------+------------+---------------+-------------+-----------+-----+-------+----------+------------+---------+---------------------+------------+------------+---------+--------------------+\n",
      "|       2| 2020-01-23 13:10:15|  2020-01-23 13:38:16|                 N|         1|          74|         130|              1|        12.77|       36.0|  0.0|    0.5|      2.05|        6.12|     NULL|                  0.3|       44.97|           1|        1|                 0.0|\n",
      "|    NULL| 2020-01-20 15:09:00|  2020-01-20 15:46:00|              NULL|      NULL|          67|          39|           NULL|          8.0|       29.9| 2.75|    0.5|       0.0|         0.0|     NULL|                  0.3|       33.45|        NULL|     NULL|                NULL|\n",
      "|       2| 2020-01-15 20:23:41|  2020-01-15 20:31:18|                 N|         1|         260|         157|              1|         1.27|        7.0|  0.5|    0.5|       0.0|         0.0|     NULL|                  0.3|         8.3|           2|        1|                 0.0|\n",
      "|       2| 2020-01-05 16:32:26|  2020-01-05 16:40:51|                 N|         1|          82|          83|              1|         1.25|        7.5|  0.0|    0.5|       0.0|         0.0|     NULL|                  0.3|         8.3|           2|        1|                 0.0|\n",
      "|       2| 2020-01-29 19:22:42|  2020-01-29 19:31:02|                 N|         1|         166|          42|              1|         1.84|        8.0|  1.0|    0.5|      2.94|         0.0|     NULL|                  0.3|       12.74|           1|        1|                 0.0|\n",
      "|       2| 2020-01-15 11:07:42|  2020-01-15 11:11:31|                 N|         1|         179|         223|              2|         0.76|        5.0|  0.0|    0.5|       0.0|         0.0|     NULL|                  0.3|         5.8|           2|        1|                 0.0|\n",
      "|       2| 2020-01-16 08:22:29|  2020-01-16 08:50:24|                 N|         1|          41|         237|              1|         3.32|       18.5|  0.0|    0.5|       3.0|         0.0|     NULL|                  0.3|       25.05|           1|        1|                2.75|\n",
      "|       2| 2020-01-28 17:05:28|  2020-01-28 17:26:11|                 N|         1|          75|         161|              1|         2.21|       14.0|  1.0|    0.5|      2.78|         0.0|     NULL|                  0.3|       21.33|           1|        1|                2.75|\n",
      "|       1| 2020-01-22 14:51:37|  2020-01-22 14:57:29|                 N|         1|         152|         166|              1|          0.9|        6.0|  0.0|    0.5|       1.0|         0.0|     NULL|                  0.3|         7.8|           1|        1|                 0.0|\n",
      "|       2| 2020-01-31 10:25:04|  2020-01-31 10:52:13|                 N|         1|          75|         234|              1|          6.1|       22.5|  0.0|    0.5|       0.0|         0.0|     NULL|                  0.3|       26.05|           2|        1|                2.75|\n",
      "|       2| 2020-01-20 15:50:54|  2020-01-20 16:00:06|                 N|         1|          75|          41|              1|         1.74|        8.0|  0.0|    0.5|      1.76|         0.0|     NULL|                  0.3|       10.56|           1|        1|                 0.0|\n",
      "|       2| 2020-01-31 11:35:17|  2020-01-31 11:44:29|                 N|         1|         260|         226|              5|         1.18|        7.5|  0.0|    0.5|       0.0|         0.0|     NULL|                  0.3|         8.3|           2|        1|                 0.0|\n",
      "|       1| 2020-01-04 20:44:28|  2020-01-04 20:52:24|                 N|         1|         129|         129|              1|          2.2|        9.5|  0.5|    0.5|       2.0|         0.0|     NULL|                  0.3|        12.8|           1|        1|                 0.0|\n",
      "|       2| 2020-01-17 21:47:52|  2020-01-17 22:00:07|                 N|         1|          74|         126|              1|         3.04|       12.0|  0.5|    0.5|       0.0|         0.0|     NULL|                  0.3|        13.3|           2|        1|                 0.0|\n",
      "|       2| 2020-01-21 23:13:47|  2020-01-21 23:17:31|                 N|         1|          61|          61|              1|         0.85|        5.0|  0.5|    0.5|       0.0|         0.0|     NULL|                  0.3|         6.3|           2|        1|                 0.0|\n",
      "|       2| 2020-01-02 08:11:21|  2020-01-02 08:32:05|                 N|         1|          66|         164|              1|         5.06|       18.5|  0.0|    0.5|       1.5|         0.0|     NULL|                  0.3|       23.55|           1|        1|                2.75|\n",
      "|       2| 2020-01-27 02:59:20|  2020-01-27 03:05:18|                 N|         1|           7|         179|              1|         1.57|        6.5|  0.5|    0.5|       0.0|         0.0|     NULL|                  0.3|         7.8|           2|        1|                 0.0|\n",
      "|       2| 2020-01-16 14:39:13|  2020-01-16 15:19:56|                 N|         1|          74|         243|              1|          6.8|       29.5|  0.0|    0.5|       0.0|         0.0|     NULL|                  0.3|        30.3|           1|        1|                 0.0|\n",
      "|       2| 2020-01-16 18:42:24|  2020-01-16 18:47:59|                 N|         1|          66|          97|              2|         1.06|        6.0|  1.0|    0.5|      1.56|         0.0|     NULL|                  0.3|        9.36|           1|        1|                 0.0|\n",
      "|       2| 2020-01-03 09:24:54|  2020-01-03 09:33:14|                 N|         1|          61|         225|              1|         1.23|        7.0|  0.0|    0.5|       0.0|         0.0|     NULL|                  0.3|         7.8|           1|        1|                 0.0|\n",
      "+--------+--------------------+---------------------+------------------+----------+------------+------------+---------------+-------------+-----------+-----+-------+----------+------------+---------+---------------------+------------+------------+---------+--------------------+\n",
      "only showing top 20 rows\n",
      "\n"
     ]
    }
   ],
   "source": [
    "df_green.show()"
   ]
  },
  {
   "cell_type": "code",
   "execution_count": 18,
   "id": "4c350b70-bb2f-4187-9583-98ce9a6c9689",
   "metadata": {},
   "outputs": [],
   "source": [
    "spark.sparkContext.stop()"
   ]
  }
 ],
 "metadata": {
  "kernelspec": {
   "display_name": "Python 3 (ipykernel)",
   "language": "python",
   "name": "python3"
  },
  "language_info": {
   "codemirror_mode": {
    "name": "ipython",
    "version": 3
   },
   "file_extension": ".py",
   "mimetype": "text/x-python",
   "name": "python",
   "nbconvert_exporter": "python",
   "pygments_lexer": "ipython3",
   "version": "3.12.7"
  }
 },
 "nbformat": 4,
 "nbformat_minor": 5
}
