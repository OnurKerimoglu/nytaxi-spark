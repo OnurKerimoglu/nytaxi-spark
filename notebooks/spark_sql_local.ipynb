{
 "cells": [
  {
   "cell_type": "code",
   "execution_count": 1,
   "id": "10769530-d6bf-490e-ace3-6ea8765c304b",
   "metadata": {},
   "outputs": [],
   "source": [
    "import os\n",
    "import pandas as pd\n",
    "import pyspark\n",
    "from pyspark.sql import functions as F\n",
    "from pyspark.sql import SparkSession\n",
    "from pyspark.sql import types"
   ]
  },
  {
   "cell_type": "code",
   "execution_count": 2,
   "id": "b4d1d4ed-3f18-4dcb-ac16-1479ba1ada09",
   "metadata": {},
   "outputs": [
    {
     "name": "stdout",
     "output_type": "stream",
     "text": [
      "datapath: /home/onur/repos/nytaxi-spark/data\n"
     ]
    }
   ],
   "source": [
    "rootpath = os.path.dirname(os.path.abspath(\"\"))\n",
    "datapath = os.path.join(rootpath, 'data')\n",
    "print(f\"datapath: {datapath}\")"
   ]
  },
  {
   "cell_type": "code",
   "execution_count": 3,
   "id": "396c466f-590a-49e9-91cd-8f50450dfbae",
   "metadata": {},
   "outputs": [
    {
     "name": "stderr",
     "output_type": "stream",
     "text": [
      "Setting default log level to \"WARN\".\n",
      "To adjust logging level use sc.setLogLevel(newLevel). For SparkR, use setLogLevel(newLevel).\n",
      "25/03/13 17:46:48 WARN NativeCodeLoader: Unable to load native-hadoop library for your platform... using builtin-java classes where applicable\n"
     ]
    }
   ],
   "source": [
    "spark = SparkSession.builder \\\n",
    "    .master(\"spark://de-zoomcamp.europe-west1-b.c.fresh-gravity-452908-t8.internal:7077\") \\\n",
    "    .appName('sql_local') \\\n",
    "    .getOrCreate()"
   ]
  },
  {
   "cell_type": "markdown",
   "id": "dd6ecaa5-5b01-481a-b2c5-0aefbd13e2ca",
   "metadata": {},
   "source": [
    "### Read and Combine Green&Yellow Data"
   ]
  },
  {
   "cell_type": "code",
   "execution_count": 4,
   "id": "2522b1e4-b22a-4858-b607-a5200762bc63",
   "metadata": {},
   "outputs": [
    {
     "name": "stderr",
     "output_type": "stream",
     "text": [
      "                                                                                \r"
     ]
    }
   ],
   "source": [
    "df_green = spark.read.parquet(os.path.join(datapath, 'pq', 'green', '*', '*'))"
   ]
  },
  {
   "cell_type": "code",
   "execution_count": 5,
   "id": "7d2e1917-884f-41a7-b3b9-4620528c4e92",
   "metadata": {},
   "outputs": [
    {
     "name": "stderr",
     "output_type": "stream",
     "text": [
      "                                                                                \r"
     ]
    },
    {
     "name": "stdout",
     "output_type": "stream",
     "text": [
      "+--------+--------------------+---------------------+------------------+----------+------------+------------+---------------+-------------+-----------+-----+-------+----------+------------+---------+---------------------+------------+------------+---------+--------------------+\n",
      "|VendorID|lpep_pickup_datetime|lpep_dropoff_datetime|store_and_fwd_flag|RatecodeID|PULocationID|DOLocationID|passenger_count|trip_distance|fare_amount|extra|mta_tax|tip_amount|tolls_amount|ehail_fee|improvement_surcharge|total_amount|payment_type|trip_type|congestion_surcharge|\n",
      "+--------+--------------------+---------------------+------------------+----------+------------+------------+---------------+-------------+-----------+-----+-------+----------+------------+---------+---------------------+------------+------------+---------+--------------------+\n",
      "|       2| 2020-01-23 13:10:15|  2020-01-23 13:38:16|                 N|         1|          74|         130|              1|        12.77|       36.0|  0.0|    0.5|      2.05|        6.12|     NULL|                  0.3|       44.97|           1|        1|                 0.0|\n",
      "|    NULL| 2020-01-20 15:09:00|  2020-01-20 15:46:00|              NULL|      NULL|          67|          39|           NULL|          8.0|       29.9| 2.75|    0.5|       0.0|         0.0|     NULL|                  0.3|       33.45|        NULL|     NULL|                NULL|\n",
      "|       2| 2020-01-15 20:23:41|  2020-01-15 20:31:18|                 N|         1|         260|         157|              1|         1.27|        7.0|  0.5|    0.5|       0.0|         0.0|     NULL|                  0.3|         8.3|           2|        1|                 0.0|\n",
      "|       2| 2020-01-05 16:32:26|  2020-01-05 16:40:51|                 N|         1|          82|          83|              1|         1.25|        7.5|  0.0|    0.5|       0.0|         0.0|     NULL|                  0.3|         8.3|           2|        1|                 0.0|\n",
      "|       2| 2020-01-29 19:22:42|  2020-01-29 19:31:02|                 N|         1|         166|          42|              1|         1.84|        8.0|  1.0|    0.5|      2.94|         0.0|     NULL|                  0.3|       12.74|           1|        1|                 0.0|\n",
      "|       2| 2020-01-15 11:07:42|  2020-01-15 11:11:31|                 N|         1|         179|         223|              2|         0.76|        5.0|  0.0|    0.5|       0.0|         0.0|     NULL|                  0.3|         5.8|           2|        1|                 0.0|\n",
      "|       2| 2020-01-16 08:22:29|  2020-01-16 08:50:24|                 N|         1|          41|         237|              1|         3.32|       18.5|  0.0|    0.5|       3.0|         0.0|     NULL|                  0.3|       25.05|           1|        1|                2.75|\n",
      "|       2| 2020-01-28 17:05:28|  2020-01-28 17:26:11|                 N|         1|          75|         161|              1|         2.21|       14.0|  1.0|    0.5|      2.78|         0.0|     NULL|                  0.3|       21.33|           1|        1|                2.75|\n",
      "|       1| 2020-01-22 14:51:37|  2020-01-22 14:57:29|                 N|         1|         152|         166|              1|          0.9|        6.0|  0.0|    0.5|       1.0|         0.0|     NULL|                  0.3|         7.8|           1|        1|                 0.0|\n",
      "|       2| 2020-01-31 10:25:04|  2020-01-31 10:52:13|                 N|         1|          75|         234|              1|          6.1|       22.5|  0.0|    0.5|       0.0|         0.0|     NULL|                  0.3|       26.05|           2|        1|                2.75|\n",
      "|       2| 2020-01-20 15:50:54|  2020-01-20 16:00:06|                 N|         1|          75|          41|              1|         1.74|        8.0|  0.0|    0.5|      1.76|         0.0|     NULL|                  0.3|       10.56|           1|        1|                 0.0|\n",
      "|       2| 2020-01-31 11:35:17|  2020-01-31 11:44:29|                 N|         1|         260|         226|              5|         1.18|        7.5|  0.0|    0.5|       0.0|         0.0|     NULL|                  0.3|         8.3|           2|        1|                 0.0|\n",
      "|       1| 2020-01-04 20:44:28|  2020-01-04 20:52:24|                 N|         1|         129|         129|              1|          2.2|        9.5|  0.5|    0.5|       2.0|         0.0|     NULL|                  0.3|        12.8|           1|        1|                 0.0|\n",
      "|       2| 2020-01-17 21:47:52|  2020-01-17 22:00:07|                 N|         1|          74|         126|              1|         3.04|       12.0|  0.5|    0.5|       0.0|         0.0|     NULL|                  0.3|        13.3|           2|        1|                 0.0|\n",
      "|       2| 2020-01-21 23:13:47|  2020-01-21 23:17:31|                 N|         1|          61|          61|              1|         0.85|        5.0|  0.5|    0.5|       0.0|         0.0|     NULL|                  0.3|         6.3|           2|        1|                 0.0|\n",
      "|       2| 2020-01-02 08:11:21|  2020-01-02 08:32:05|                 N|         1|          66|         164|              1|         5.06|       18.5|  0.0|    0.5|       1.5|         0.0|     NULL|                  0.3|       23.55|           1|        1|                2.75|\n",
      "|       2| 2020-01-27 02:59:20|  2020-01-27 03:05:18|                 N|         1|           7|         179|              1|         1.57|        6.5|  0.5|    0.5|       0.0|         0.0|     NULL|                  0.3|         7.8|           2|        1|                 0.0|\n",
      "|       2| 2020-01-16 14:39:13|  2020-01-16 15:19:56|                 N|         1|          74|         243|              1|          6.8|       29.5|  0.0|    0.5|       0.0|         0.0|     NULL|                  0.3|        30.3|           1|        1|                 0.0|\n",
      "|       2| 2020-01-16 18:42:24|  2020-01-16 18:47:59|                 N|         1|          66|          97|              2|         1.06|        6.0|  1.0|    0.5|      1.56|         0.0|     NULL|                  0.3|        9.36|           1|        1|                 0.0|\n",
      "|       2| 2020-01-03 09:24:54|  2020-01-03 09:33:14|                 N|         1|          61|         225|              1|         1.23|        7.0|  0.0|    0.5|       0.0|         0.0|     NULL|                  0.3|         7.8|           1|        1|                 0.0|\n",
      "+--------+--------------------+---------------------+------------------+----------+------------+------------+---------------+-------------+-----------+-----+-------+----------+------------+---------+---------------------+------------+------------+---------+--------------------+\n",
      "only showing top 20 rows\n",
      "\n"
     ]
    }
   ],
   "source": [
    "df_green.show()"
   ]
  },
  {
   "cell_type": "code",
   "execution_count": 6,
   "id": "87340376-0962-4392-9591-d54f4a979f9a",
   "metadata": {},
   "outputs": [
    {
     "name": "stdout",
     "output_type": "stream",
     "text": [
      "root\n",
      " |-- VendorID: integer (nullable = true)\n",
      " |-- lpep_pickup_datetime: timestamp (nullable = true)\n",
      " |-- lpep_dropoff_datetime: timestamp (nullable = true)\n",
      " |-- store_and_fwd_flag: string (nullable = true)\n",
      " |-- RatecodeID: integer (nullable = true)\n",
      " |-- PULocationID: integer (nullable = true)\n",
      " |-- DOLocationID: integer (nullable = true)\n",
      " |-- passenger_count: integer (nullable = true)\n",
      " |-- trip_distance: double (nullable = true)\n",
      " |-- fare_amount: double (nullable = true)\n",
      " |-- extra: double (nullable = true)\n",
      " |-- mta_tax: double (nullable = true)\n",
      " |-- tip_amount: double (nullable = true)\n",
      " |-- tolls_amount: double (nullable = true)\n",
      " |-- ehail_fee: double (nullable = true)\n",
      " |-- improvement_surcharge: double (nullable = true)\n",
      " |-- total_amount: double (nullable = true)\n",
      " |-- payment_type: integer (nullable = true)\n",
      " |-- trip_type: integer (nullable = true)\n",
      " |-- congestion_surcharge: double (nullable = true)\n",
      "\n"
     ]
    }
   ],
   "source": [
    "df_green.printSchema()"
   ]
  },
  {
   "cell_type": "code",
   "execution_count": 7,
   "id": "5bc755bc-77e4-480e-afe1-a7d6e44f1011",
   "metadata": {},
   "outputs": [],
   "source": [
    "df_yellow= spark.read.parquet(os.path.join(datapath, 'pq', 'yellow', '*', '*'))"
   ]
  },
  {
   "cell_type": "code",
   "execution_count": 8,
   "id": "816a3421-251e-4b37-8ada-b866bd106e8d",
   "metadata": {},
   "outputs": [
    {
     "name": "stderr",
     "output_type": "stream",
     "text": [
      "[Stage 3:>                                                          (0 + 1) / 1]\r"
     ]
    },
    {
     "name": "stdout",
     "output_type": "stream",
     "text": [
      "+--------+--------------------+---------------------+---------------+-------------+----------+------------------+------------+------------+------------+-----------+-----+-------+----------+------------+---------------------+------------+--------------------+\n",
      "|VendorID|tpep_pickup_datetime|tpep_dropoff_datetime|passenger_count|trip_distance|RatecodeID|store_and_fwd_flag|PULocationID|DOLocationID|payment_type|fare_amount|extra|mta_tax|tip_amount|tolls_amount|improvement_surcharge|total_amount|congestion_surcharge|\n",
      "+--------+--------------------+---------------------+---------------+-------------+----------+------------------+------------+------------+------------+-----------+-----+-------+----------+------------+---------------------+------------+--------------------+\n",
      "|       2| 2020-01-06 09:18:38|  2020-01-06 09:33:56|              1|         3.03|         1|                 N|         263|         233|           1|       12.0|  0.0|    0.5|       1.5|         0.0|                  0.3|        16.8|                 2.5|\n",
      "|       2| 2020-01-08 18:55:19|  2020-01-08 18:58:38|              1|          0.4|         1|                 N|         234|         107|           1|        4.0|  1.0|    0.5|      1.66|         0.0|                  0.3|        9.96|                 2.5|\n",
      "|       2| 2020-01-16 12:11:53|  2020-01-16 12:42:44|              1|         2.46|         1|                 N|          68|         229|           1|       19.0|  0.0|    0.5|      4.46|         0.0|                  0.3|       26.76|                 2.5|\n",
      "|       2| 2020-01-11 01:55:59|  2020-01-11 02:03:21|              6|          1.9|         1|                 N|         230|          90|           1|        8.0|  0.5|    0.5|      2.36|         0.0|                  0.3|       14.16|                 2.5|\n",
      "|       2| 2020-01-01 21:31:48|  2020-01-01 21:36:01|              1|         0.77|         1|                 N|         238|         239|           1|        5.0|  0.5|    0.5|      1.76|         0.0|                  0.3|       10.56|                 2.5|\n",
      "|       2| 2020-01-14 11:51:02|  2020-01-14 12:01:14|              1|         1.55|         1|                 N|         163|         230|           1|        8.5|  0.0|    0.5|       0.5|         0.0|                  0.3|        12.3|                 2.5|\n",
      "|       2| 2020-01-26 19:15:51|  2020-01-26 19:30:13|              1|         2.53|         1|                 N|         170|         236|           2|       12.0|  0.0|    0.5|       0.0|         0.0|                  0.3|        15.3|                 2.5|\n",
      "|       1| 2020-01-23 08:06:15|  2020-01-23 08:16:14|              3|          1.7|         1|                 N|         163|          68|           1|        8.5|  2.5|    0.5|      2.95|         0.0|                  0.3|       14.75|                 2.5|\n",
      "|       1| 2020-01-18 18:50:47|  2020-01-18 19:03:13|              2|          0.8|         1|                 N|         234|         186|           2|        9.0|  2.5|    0.5|       0.0|         0.0|                  0.3|        12.3|                 2.5|\n",
      "|       2| 2020-01-26 16:08:15|  2020-01-26 16:27:05|              1|         1.72|         1|                 N|         237|         162|           2|       12.5|  0.0|    0.5|       0.0|         0.0|                  0.3|        15.8|                 2.5|\n",
      "|       2| 2020-01-20 22:50:00|  2020-01-20 23:21:42|              1|        11.32|         1|                 N|         138|         239|           1|       35.0|  0.5|    0.5|      8.98|        6.12|                  0.3|        53.9|                 2.5|\n",
      "|       1| 2020-01-15 23:05:17|  2020-01-15 23:27:28|              1|          6.6|         1|                 N|         125|         151|           1|       23.0|  3.0|    0.5|       3.0|         0.0|                  0.3|        29.8|                 2.5|\n",
      "|       2| 2020-01-24 08:02:45|  2020-01-24 08:10:58|              1|         1.18|         1|                 N|         170|         161|           1|        7.0|  0.0|    0.5|      2.06|         0.0|                  0.3|       12.36|                 2.5|\n",
      "|       2| 2020-01-08 19:24:16|  2020-01-08 19:32:17|              2|         1.23|         1|                 N|         234|         249|           1|        7.0|  1.0|    0.5|      2.26|         0.0|                  0.3|       13.56|                 2.5|\n",
      "|       2| 2020-01-25 08:28:20|  2020-01-25 08:32:30|              2|         0.65|         1|                 N|         237|         140|           1|        5.0|  0.0|    0.5|       1.0|         0.0|                  0.3|         9.3|                 2.5|\n",
      "|       1| 2020-01-11 16:43:09|  2020-01-11 17:00:42|              1|          1.7|         1|                 N|         186|         113|           1|       11.5|  2.5|    0.5|      2.22|         0.0|                  0.3|       17.02|                 2.5|\n",
      "|       1| 2020-01-07 12:32:34|  2020-01-07 12:43:03|              1|          1.4|         1|                 N|         234|         246|           1|        8.5|  2.5|    0.5|      2.35|         0.0|                  0.3|       14.15|                 2.5|\n",
      "|       2| 2020-01-06 11:57:13|  2020-01-06 12:05:37|              1|         2.23|         1|                 N|         263|          74|           2|        9.0|  0.0|    0.5|       0.0|         0.0|                  0.3|        12.3|                 2.5|\n",
      "|       1| 2020-01-20 21:57:49|  2020-01-20 22:03:45|              1|          1.4|         1|                 N|         231|         113|           1|        6.5|  3.0|    0.5|       1.0|         0.0|                  0.3|        11.3|                 2.5|\n",
      "|       2| 2020-01-07 18:23:35|  2020-01-07 18:31:25|              2|         1.04|         1|                 N|         211|          79|           1|        7.0|  1.0|    0.5|      2.26|         0.0|                  0.3|       13.56|                 2.5|\n",
      "+--------+--------------------+---------------------+---------------+-------------+----------+------------------+------------+------------+------------+-----------+-----+-------+----------+------------+---------------------+------------+--------------------+\n",
      "only showing top 20 rows\n",
      "\n"
     ]
    },
    {
     "name": "stderr",
     "output_type": "stream",
     "text": [
      "                                                                                \r"
     ]
    }
   ],
   "source": [
    "df_yellow.show()"
   ]
  },
  {
   "cell_type": "code",
   "execution_count": 9,
   "id": "6139967f-1044-48e8-b422-1f31d348fed8",
   "metadata": {},
   "outputs": [
    {
     "name": "stdout",
     "output_type": "stream",
     "text": [
      "root\n",
      " |-- VendorID: integer (nullable = true)\n",
      " |-- tpep_pickup_datetime: timestamp (nullable = true)\n",
      " |-- tpep_dropoff_datetime: timestamp (nullable = true)\n",
      " |-- passenger_count: integer (nullable = true)\n",
      " |-- trip_distance: double (nullable = true)\n",
      " |-- RatecodeID: integer (nullable = true)\n",
      " |-- store_and_fwd_flag: string (nullable = true)\n",
      " |-- PULocationID: integer (nullable = true)\n",
      " |-- DOLocationID: integer (nullable = true)\n",
      " |-- payment_type: integer (nullable = true)\n",
      " |-- fare_amount: double (nullable = true)\n",
      " |-- extra: double (nullable = true)\n",
      " |-- mta_tax: double (nullable = true)\n",
      " |-- tip_amount: double (nullable = true)\n",
      " |-- tolls_amount: double (nullable = true)\n",
      " |-- improvement_surcharge: double (nullable = true)\n",
      " |-- total_amount: double (nullable = true)\n",
      " |-- congestion_surcharge: double (nullable = true)\n",
      "\n"
     ]
    }
   ],
   "source": [
    "df_yellow.printSchema()"
   ]
  },
  {
   "cell_type": "code",
   "execution_count": 10,
   "id": "8fc796c5-bc4d-4d02-9ac9-626e158ed07c",
   "metadata": {},
   "outputs": [
    {
     "data": {
      "text/plain": [
       "{'DOLocationID',\n",
       " 'PULocationID',\n",
       " 'RatecodeID',\n",
       " 'VendorID',\n",
       " 'congestion_surcharge',\n",
       " 'extra',\n",
       " 'fare_amount',\n",
       " 'improvement_surcharge',\n",
       " 'mta_tax',\n",
       " 'passenger_count',\n",
       " 'payment_type',\n",
       " 'store_and_fwd_flag',\n",
       " 'tip_amount',\n",
       " 'tolls_amount',\n",
       " 'total_amount',\n",
       " 'trip_distance'}"
      ]
     },
     "execution_count": 10,
     "metadata": {},
     "output_type": "execute_result"
    }
   ],
   "source": [
    "# common columns:\n",
    "set(df_green.columns) & set(df_yellow.columns)"
   ]
  },
  {
   "cell_type": "code",
   "execution_count": 11,
   "id": "7d66be9d-36e0-47a3-903e-3e0f7081c7df",
   "metadata": {},
   "outputs": [
    {
     "name": "stdout",
     "output_type": "stream",
     "text": [
      "root\n",
      " |-- VendorID: integer (nullable = true)\n",
      " |-- pickup_datetime: timestamp (nullable = true)\n",
      " |-- dropoff_datetime: timestamp (nullable = true)\n",
      " |-- store_and_fwd_flag: string (nullable = true)\n",
      " |-- RatecodeID: integer (nullable = true)\n",
      " |-- PULocationID: integer (nullable = true)\n",
      " |-- DOLocationID: integer (nullable = true)\n",
      " |-- passenger_count: integer (nullable = true)\n",
      " |-- trip_distance: double (nullable = true)\n",
      " |-- fare_amount: double (nullable = true)\n",
      " |-- extra: double (nullable = true)\n",
      " |-- mta_tax: double (nullable = true)\n",
      " |-- tip_amount: double (nullable = true)\n",
      " |-- tolls_amount: double (nullable = true)\n",
      " |-- ehail_fee: double (nullable = true)\n",
      " |-- improvement_surcharge: double (nullable = true)\n",
      " |-- total_amount: double (nullable = true)\n",
      " |-- payment_type: integer (nullable = true)\n",
      " |-- trip_type: integer (nullable = true)\n",
      " |-- congestion_surcharge: double (nullable = true)\n",
      "\n"
     ]
    }
   ],
   "source": [
    "df_green = df_green \\\n",
    ".withColumnRenamed('lpep_pickup_datetime', 'pickup_datetime')\\\n",
    ".withColumnRenamed('lpep_dropoff_datetime', 'dropoff_datetime')\n",
    "df_green.printSchema()"
   ]
  },
  {
   "cell_type": "code",
   "execution_count": null,
   "id": "0929a7be-8cd2-4de4-97fb-90bbdbfb6ea8",
   "metadata": {},
   "outputs": [],
   "source": [
    "df_yellow = df_yellow \\\n",
    ".withColumnRenamed('tpep_pickup_datetime', 'pickup_datetime')\\\n",
    ".withColumnRenamed('tpep_dropoff_datetime', 'dropoff_datetime')\n",
    "df_yellow.printSchema()"
   ]
  },
  {
   "cell_type": "code",
   "execution_count": 12,
   "id": "b79168ff-3867-45d1-8ed5-cc17eaaaeafd",
   "metadata": {},
   "outputs": [
    {
     "data": {
      "text/plain": [
       "{'DOLocationID',\n",
       " 'PULocationID',\n",
       " 'RatecodeID',\n",
       " 'VendorID',\n",
       " 'congestion_surcharge',\n",
       " 'extra',\n",
       " 'fare_amount',\n",
       " 'improvement_surcharge',\n",
       " 'mta_tax',\n",
       " 'passenger_count',\n",
       " 'payment_type',\n",
       " 'store_and_fwd_flag',\n",
       " 'tip_amount',\n",
       " 'tolls_amount',\n",
       " 'total_amount',\n",
       " 'trip_distance'}"
      ]
     },
     "execution_count": 12,
     "metadata": {},
     "output_type": "execute_result"
    }
   ],
   "source": [
    "# common columns:\n",
    "set(df_green.columns) & set(df_yellow.columns)"
   ]
  },
  {
   "cell_type": "code",
   "execution_count": 13,
   "id": "900a60e2-6624-4075-b4c5-2b6547b54eae",
   "metadata": {},
   "outputs": [],
   "source": [
    "common_columns = []\n",
    "yellow_columns = df_yellow.columns\n",
    "for col in df_green.columns:\n",
    "    if col in yellow_columns:\n",
    "        common_columns.append(col)\n"
   ]
  },
  {
   "cell_type": "code",
   "execution_count": 14,
   "id": "2e19e3d1-986b-49cc-8d6a-26a252322145",
   "metadata": {},
   "outputs": [
    {
     "name": "stdout",
     "output_type": "stream",
     "text": [
      "['VendorID', 'store_and_fwd_flag', 'RatecodeID', 'PULocationID', 'DOLocationID', 'passenger_count', 'trip_distance', 'fare_amount', 'extra', 'mta_tax', 'tip_amount', 'tolls_amount', 'improvement_surcharge', 'total_amount', 'payment_type', 'congestion_surcharge']\n"
     ]
    }
   ],
   "source": [
    "print(common_columns)"
   ]
  },
  {
   "cell_type": "code",
   "execution_count": 15,
   "id": "df3d915b-d120-4374-ba27-fdc4914dea0f",
   "metadata": {},
   "outputs": [],
   "source": [
    "common_columns = ['VendorID', 'store_and_fwd_flag', 'RatecodeID', 'PULocationID', 'DOLocationID', 'passenger_count', 'trip_distance', 'fare_amount', 'extra', 'mta_tax', 'tip_amount', 'tolls_amount', 'improvement_surcharge', 'total_amount', 'payment_type', 'congestion_surcharge']"
   ]
  },
  {
   "cell_type": "code",
   "execution_count": 16,
   "id": "9ee6fe83-765c-4245-affc-b4773a88264b",
   "metadata": {},
   "outputs": [],
   "source": [
    "df_green_sel = df_green\\\n",
    ".select(common_columns)\\\n",
    ".withColumn('service_type', F.lit('green'))\n",
    "\n",
    "df_yellow_sel = df_yellow\\\n",
    ".select(common_columns)\\\n",
    ".withColumn('service_type', F.lit('yellow'))\n",
    "\n",
    "df_trips_data = df_green_sel.unionAll(df_yellow_sel)"
   ]
  },
  {
   "cell_type": "code",
   "execution_count": 17,
   "id": "70066a2d-7ff2-42a3-9ae8-0f39895ab8b9",
   "metadata": {},
   "outputs": [
    {
     "name": "stderr",
     "output_type": "stream",
     "text": [
      "                                                                                \r"
     ]
    },
    {
     "data": {
      "text/plain": [
       "2304517"
      ]
     },
     "execution_count": 17,
     "metadata": {},
     "output_type": "execute_result"
    }
   ],
   "source": [
    "df_green.count()"
   ]
  },
  {
   "cell_type": "code",
   "execution_count": 18,
   "id": "66c5c790-ffa5-4cc6-a933-989bace246ee",
   "metadata": {},
   "outputs": [
    {
     "name": "stderr",
     "output_type": "stream",
     "text": [
      "                                                                                \r"
     ]
    },
    {
     "data": {
      "text/plain": [
       "39649199"
      ]
     },
     "execution_count": 18,
     "metadata": {},
     "output_type": "execute_result"
    }
   ],
   "source": [
    "df_yellow.count()"
   ]
  },
  {
   "cell_type": "code",
   "execution_count": 19,
   "id": "43c8514e-4763-44f6-a1c7-211b03122134",
   "metadata": {},
   "outputs": [
    {
     "name": "stderr",
     "output_type": "stream",
     "text": [
      "                                                                                \r"
     ]
    },
    {
     "data": {
      "text/plain": [
       "41953716"
      ]
     },
     "execution_count": 19,
     "metadata": {},
     "output_type": "execute_result"
    }
   ],
   "source": [
    "df_trips_data.count()"
   ]
  },
  {
   "cell_type": "code",
   "execution_count": 20,
   "id": "1cc3eb85-b63a-4fb0-8ca4-2266f2c45e9b",
   "metadata": {},
   "outputs": [
    {
     "name": "stderr",
     "output_type": "stream",
     "text": [
      "[Stage 13:====================================================>   (14 + 1) / 15]\r"
     ]
    },
    {
     "name": "stdout",
     "output_type": "stream",
     "text": [
      "+------------+--------+\n",
      "|service_type|   count|\n",
      "+------------+--------+\n",
      "|       green| 2304517|\n",
      "|      yellow|39649199|\n",
      "+------------+--------+\n",
      "\n"
     ]
    },
    {
     "name": "stderr",
     "output_type": "stream",
     "text": [
      "                                                                                \r"
     ]
    }
   ],
   "source": [
    "df_trips_data.groupBy('service_type').count().show()"
   ]
  },
  {
   "cell_type": "markdown",
   "id": "86bbfca1-a084-44be-8379-f5be098fb694",
   "metadata": {},
   "source": [
    "### SQL"
   ]
  },
  {
   "cell_type": "code",
   "execution_count": 21,
   "id": "8ceb12c8-8afd-45fb-977f-302986bdbdae",
   "metadata": {},
   "outputs": [
    {
     "name": "stderr",
     "output_type": "stream",
     "text": [
      "/home/onur/opt/spark355/spark-3.5.5-bin-hadoop3/python/pyspark/sql/dataframe.py:329: FutureWarning: Deprecated in 2.0, use createOrReplaceTempView instead.\n",
      "  warnings.warn(\"Deprecated in 2.0, use createOrReplaceTempView instead.\", FutureWarning)\n"
     ]
    }
   ],
   "source": [
    "df_trips_data.registerTempTable('trips_data')"
   ]
  },
  {
   "cell_type": "code",
   "execution_count": 23,
   "id": "20392520-3d4b-4500-84a6-5e58a3f426f9",
   "metadata": {},
   "outputs": [
    {
     "name": "stderr",
     "output_type": "stream",
     "text": [
      "[Stage 19:====================================================>   (14 + 1) / 15]\r"
     ]
    },
    {
     "name": "stdout",
     "output_type": "stream",
     "text": [
      "+------------+--------+\n",
      "|service_type|count(1)|\n",
      "+------------+--------+\n",
      "|       green| 2304517|\n",
      "|      yellow|39649199|\n",
      "+------------+--------+\n",
      "\n"
     ]
    },
    {
     "name": "stderr",
     "output_type": "stream",
     "text": [
      "                                                                                \r"
     ]
    }
   ],
   "source": [
    "spark.sql(\"\"\"\n",
    "SELECT\n",
    "service_type,\n",
    "count(*)\n",
    "from trips_data\n",
    "group by service_type\n",
    "\"\"\").show()"
   ]
  },
  {
   "cell_type": "code",
   "execution_count": 24,
   "id": "5e201821-4b3f-4c9c-95e3-4cf1f2a6ae3a",
   "metadata": {},
   "outputs": [],
   "source": [
    "query = \"\"\"\n",
    "select \n",
    "-- Revenue grouping \n",
    "PULocationID as revenue_zone,\n",
    "date_trunc(\"month\", \"pickup_datetime\") as revenue_month,\n",
    "service_type, \n",
    "-- Revenue calculation \n",
    "sum(fare_amount) as revenue_monthly_fare,\n",
    "sum(extra) as revenue_monthly_extra,\n",
    "sum(mta_tax) as revenue_monthly_mta_tax,\n",
    "sum(tip_amount) as revenue_monthly_tip_amount,\n",
    "sum(tolls_amount) as revenue_monthly_tolls_amount,\n",
    "sum(improvement_surcharge) as revenue_monthly_improvement_surcharge,\n",
    "sum(total_amount) as revenue_monthly_total_amount,\n",
    "-- Additional calculations\n",
    "avg(passenger_count) as avg_monthly_passenger_count,\n",
    "avg(trip_distance) as avg_monthly_trip_distance\n",
    "from trips_data\n",
    "group by \n",
    "1,2,3\n",
    "\"\"\""
   ]
  },
  {
   "cell_type": "code",
   "execution_count": 25,
   "id": "5ad862ce-716f-46cd-878f-c369bb9e8d03",
   "metadata": {},
   "outputs": [],
   "source": [
    "df_result = spark.sql(query)"
   ]
  },
  {
   "cell_type": "code",
   "execution_count": 26,
   "id": "89d93609-ef14-4faa-9c4a-12c712363f5e",
   "metadata": {},
   "outputs": [
    {
     "name": "stderr",
     "output_type": "stream",
     "text": [
      "[Stage 22:====================================================>   (14 + 1) / 15]\r"
     ]
    },
    {
     "name": "stdout",
     "output_type": "stream",
     "text": [
      "+------------+-------------+------------+--------------------+---------------------+-----------------------+--------------------------+----------------------------+-------------------------------------+----------------------------+---------------------------+-------------------------+\n",
      "|revenue_zone|revenue_month|service_type|revenue_monthly_fare|revenue_monthly_extra|revenue_monthly_mta_tax|revenue_monthly_tip_amount|revenue_monthly_tolls_amount|revenue_monthly_improvement_surcharge|revenue_monthly_total_amount|avg_monthly_passenger_count|avg_monthly_trip_distance|\n",
      "+------------+-------------+------------+--------------------+---------------------+-----------------------+--------------------------+----------------------------+-------------------------------------+----------------------------+---------------------------+-------------------------+\n",
      "|         254|         NULL|       green|   278150.7100000017|   11320.520000000006|                  854.5|         9569.900000000001|           13415.77999999992|                   2786.0999999998517|           316342.1100000017|          1.138095238095238|       249.57145962406778|\n",
      "|          38|         NULL|       green|    82767.6100000003|   2537.5999999999995|                  237.5|                   2433.53|           3530.909999999999|                     664.200000000008|           92221.80000000002|         1.1342925659472423|        151.5832342657343|\n",
      "|         229|         NULL|       green|  13658.469999999998|                689.3|                   23.0|                    388.43|           789.1000000000006|                   131.99999999999972|          15699.049999999997|         1.2222222222222223|        8.259659863945577|\n",
      "|         188|         NULL|       green|  430873.54999999446|    21162.42000000001|                 1931.0|                  19095.49|           6813.589999999964|                    5714.399999999656|           486764.0000000084|         1.1596080910240203|        82.27654449456644|\n",
      "|         232|         NULL|       green|  40609.980000000025|   1913.9499999999998|                  64.55|                    1314.6|          1395.4100000000003|                    403.5000000000009|           45729.54000000001|          1.069767441860465|       261.16848552338536|\n",
      "|          91|         NULL|       green|  250313.21999999747|    12562.13000000001|                  787.0|         8716.689999999999|          6357.6099999999715|                    2745.299999999858|           281822.2500000027|         1.1644120707596255|       150.86490212498697|\n",
      "|         134|         NULL|       green|  237161.70999999926|   10112.500000000002|                 5852.0|        17749.850000000013|           4267.539999999986|                   4513.2000000003445|          280469.14999999985|         1.3807110815750125|       14.592568801313632|\n",
      "|         109|         NULL|       green|              487.78|                 3.75|                    3.0|                       5.5|                       62.06|                                  2.7|           567.5400000000001|         1.3333333333333333|       16.052222222222223|\n",
      "|         241|         NULL|       green|  146435.96999999913|    4976.449999999998|                  874.5|                   5909.28|           5791.599999999975|                   1537.2000000000085|          165902.95000000083|         1.1257344300822563|       142.77369097091048|\n",
      "|          93|         NULL|       green|            30308.01|    655.6500000000001|                  297.5|        2848.0600000000004|           1195.750000000001|                    314.0999999999996|          35931.469999999965|         1.3621399176954732|        7.395726179463465|\n",
      "|         101|         NULL|       green|   39496.09000000004|   1367.1999999999998|                  112.0|        1092.3700000000001|           952.1200000000002|                   324.00000000000057|           43368.63000000009|                        1.2|        195.6959838998212|\n",
      "|         118|         NULL|       green|             4471.26|                41.25|                   25.5|                     90.87|           650.9100000000001|                   23.699999999999996|                     5303.49|          1.169811320754717|       18.348101265822788|\n",
      "|         189|         NULL|       green|   94516.58000000018|              4349.99|                 1131.0|         7784.499999999997|           769.1300000000002|                    1469.399999999979|          111309.84999999998|         1.2221715328467153|       100.36491477842405|\n",
      "|         153|         NULL|       green|   44446.14000000008|   1739.6000000000001|                  314.0|                   1898.36|           836.8100000000005|                    538.5000000000039|           49846.35999999987|         1.1730769230769231|        85.14134782608693|\n",
      "|         221|         NULL|       green|             4423.11|                 43.0|                   25.5|         97.51000000000002|           650.6500000000001|                   25.199999999999996|           5278.719999999999|         1.5272727272727273|        15.34678571428571|\n",
      "|         225|         NULL|       green|  327440.79999999516|   15683.280000000012|                 1740.5|        14035.020000000004|           6848.679999999968|                    4104.899999999652|           370806.5300000001|          1.153555479216764|       26.192385075677578|\n",
      "|          76|         NULL|       green|   519384.7099999888|    22772.82000000003|                 1959.0|                  17321.47|          16248.769999999877|                    5437.199999999807|           583539.5199999928|         1.2111475409836066|        79.12579277697995|\n",
      "|         227|         NULL|       green|  145901.40999999945|              4067.25|                  700.5|         5313.889999999999|          1879.9699999999998|                    1220.700000000029|          159232.02000000098|          1.043778801843318|       30.871060496505176|\n",
      "|          94|         NULL|       green|   82998.72000000004|   3515.6999999999994|                  562.0|                   3282.34|                     2794.86|                   1018.8000000000214|           94344.31999999935|         1.1953612845673507|        75.99355281992563|\n",
      "|          52|         NULL|       green|  204883.62999999983|               6166.2|                 7813.5|        30908.169999999976|          1451.2800000000004|                    4981.800000000519|            262175.629999996|         1.2154023577652486|        5.637083707293712|\n",
      "+------------+-------------+------------+--------------------+---------------------+-----------------------+--------------------------+----------------------------+-------------------------------------+----------------------------+---------------------------+-------------------------+\n",
      "only showing top 20 rows\n",
      "\n"
     ]
    },
    {
     "name": "stderr",
     "output_type": "stream",
     "text": [
      "                                                                                \r"
     ]
    }
   ],
   "source": [
    "df_result.show()"
   ]
  },
  {
   "cell_type": "code",
   "execution_count": null,
   "id": "233dfb7b-783c-48d4-be5a-4fd1b779a4d9",
   "metadata": {},
   "outputs": [],
   "source": [
    "df_result.write.parquet(os.path.join(datapath, 'report', 'revenue_monthly'))"
   ]
  },
  {
   "cell_type": "code",
   "execution_count": 27,
   "id": "9c9e410e-6afe-40ab-86e2-aa56c1ff47f1",
   "metadata": {},
   "outputs": [],
   "source": [
    "spark.sparkContext.stop()\n",
    "\n"
   ]
  },
  {
   "cell_type": "code",
   "execution_count": null,
   "id": "6a0f6b49-bb2a-49ec-b9d2-f5d522c8880e",
   "metadata": {},
   "outputs": [],
   "source": []
  }
 ],
 "metadata": {
  "kernelspec": {
   "display_name": "Python 3 (ipykernel)",
   "language": "python",
   "name": "python3"
  },
  "language_info": {
   "codemirror_mode": {
    "name": "ipython",
    "version": 3
   },
   "file_extension": ".py",
   "mimetype": "text/x-python",
   "name": "python",
   "nbconvert_exporter": "python",
   "pygments_lexer": "ipython3",
   "version": "3.12.7"
  }
 },
 "nbformat": 4,
 "nbformat_minor": 5
}
